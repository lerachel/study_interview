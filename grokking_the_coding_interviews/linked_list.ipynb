{
 "cells": [
  {
   "cell_type": "markdown",
   "metadata": {},
   "source": [
    "# Singly Linked-List"
   ]
  },
  {
   "cell_type": "code",
   "execution_count": 7,
   "metadata": {},
   "outputs": [],
   "source": [
    "# Node implementation\n",
    "class Node:\n",
    "    def __init__(self, data=0, next_node=None):\n",
    "        self.data = data\n",
    "        self.next_node = next_node\n",
    "\n",
    "def printList(llist):\n",
    "    while llist:\n",
    "        print(llist.data)\n",
    "        llist = llist.next_node\n",
    "        \n",
    "def createList(input):\n",
    "    dummy_head = tail = Node()\n",
    "    \n",
    "    for value in input:\n",
    "        new_node = Node(value)\n",
    "        tail.next_node = new_node\n",
    "        tail = tail.next_node\n",
    "    return dummy_head.next_node    "
   ]
  },
  {
   "cell_type": "code",
   "execution_count": 8,
   "metadata": {},
   "outputs": [],
   "source": [
    "def merge_lists(l1, l2):\n",
    "    head = tail = Node() # dummy node\n",
    "    \n",
    "    while l1 and l2:\n",
    "        if l1.data < l2.data:\n",
    "            tail.next_node, l1 = l1, l1.next_node\n",
    "        else:\n",
    "            tail.next_node, l2 = l2, l2.next_node\n",
    "        tail = tail.next_node\n",
    "    \n",
    "    tail.next_node = l1 or l2\n",
    "    return head.next_node"
   ]
  },
  {
   "cell_type": "code",
   "execution_count": 9,
   "metadata": {},
   "outputs": [
    {
     "name": "stdout",
     "output_type": "stream",
     "text": [
      "1\n",
      "3\n",
      "5\n",
      "7\n",
      "2\n",
      "4\n",
      "6\n",
      "8\n"
     ]
    }
   ],
   "source": [
    "l = [1,3,5,7]\n",
    "newlist = createList(l)\n",
    "printList(newlist)\n",
    "\n",
    "l2 = [2,4,6,8]\n",
    "newList2 = createList(l2)\n",
    "printList(newList2)"
   ]
  },
  {
   "cell_type": "code",
   "execution_count": 10,
   "metadata": {},
   "outputs": [
    {
     "name": "stdout",
     "output_type": "stream",
     "text": [
      "1\n",
      "2\n",
      "3\n",
      "4\n",
      "5\n",
      "6\n",
      "7\n",
      "8\n"
     ]
    }
   ],
   "source": [
    "# merge two list\n",
    "merged_list = merge_lists(newlist, newList2)\n",
    "printList(merged_list)"
   ]
  },
  {
   "cell_type": "code",
   "execution_count": 11,
   "metadata": {},
   "outputs": [],
   "source": [
    "llist = Node() # dummy node\n",
    "node1 = Node(1)\n",
    "node2 = Node(3)\n",
    "node3 = Node(6)\n",
    "\n",
    "llist.next_node = node1\n",
    "node1.next_node = node2\n",
    "node2.next_node = node3"
   ]
  },
  {
   "cell_type": "code",
   "execution_count": 12,
   "metadata": {},
   "outputs": [
    {
     "name": "stdout",
     "output_type": "stream",
     "text": [
      "0\n",
      "1\n",
      "3\n",
      "6\n"
     ]
    }
   ],
   "source": [
    "printList(llist)"
   ]
  },
  {
   "cell_type": "code",
   "execution_count": 13,
   "metadata": {},
   "outputs": [],
   "source": [
    "# LinkedList implementation\n",
    "class LinkedList:\n",
    "    def __init__(self, head=Node()):\n",
    "        self.head = head\n",
    "        \n",
    "def printLList(llist):\n",
    "    head = llist.head.next_node\n",
    "    while head:\n",
    "        print(head.data)\n",
    "        head = head.next_node"
   ]
  },
  {
   "cell_type": "code",
   "execution_count": 14,
   "metadata": {},
   "outputs": [
    {
     "name": "stdout",
     "output_type": "stream",
     "text": [
      "2\n",
      "5\n",
      "7\n"
     ]
    }
   ],
   "source": [
    "ll = LinkedList()\n",
    "\n",
    "node4 = Node(2)\n",
    "node5 = Node(5)\n",
    "node6 = Node(7)\n",
    "\n",
    "ll.head.next_node = node4\n",
    "node4.next_node = node5\n",
    "node5.next_node = node6\n",
    "\n",
    "printLList(ll)"
   ]
  },
  {
   "cell_type": "markdown",
   "metadata": {},
   "source": [
    "# Doubly Linked List"
   ]
  },
  {
   "cell_type": "code",
   "execution_count": 46,
   "metadata": {},
   "outputs": [],
   "source": [
    "class DNode:\n",
    "    def __init__(self, data=0, prev=None, next=None):\n",
    "        self.data = data\n",
    "        self.prev = prev\n",
    "        self.next = next\n",
    "        \n",
    "def printDList(dlist):\n",
    "    head = dlist.next\n",
    "    while head is not None:\n",
    "        print(head.data)\n",
    "        last = head\n",
    "        head = head.next\n",
    "        "
   ]
  },
  {
   "cell_type": "code",
   "execution_count": 47,
   "metadata": {},
   "outputs": [],
   "source": [
    "head = DNode()\n",
    "node7 = DNode(8)\n",
    "node8 = DNode(14)\n",
    "node9 = DNode(21)"
   ]
  },
  {
   "cell_type": "code",
   "execution_count": 48,
   "metadata": {},
   "outputs": [
    {
     "name": "stdout",
     "output_type": "stream",
     "text": [
      "8\n",
      "14\n",
      "21\n"
     ]
    }
   ],
   "source": [
    "head.next = node7\n",
    "node7.prev = head\n",
    "node7.next = node8\n",
    "\n",
    "node8.next = node9\n",
    "node8.prev = node7\n",
    "\n",
    "node9.prev = node8\n",
    "\n",
    "printDList(head)"
   ]
  },
  {
   "cell_type": "code",
   "execution_count": null,
   "metadata": {},
   "outputs": [],
   "source": []
  }
 ],
 "metadata": {
  "kernelspec": {
   "display_name": "Python 3",
   "language": "python",
   "name": "python3"
  },
  "language_info": {
   "codemirror_mode": {
    "name": "ipython",
    "version": 3
   },
   "file_extension": ".py",
   "mimetype": "text/x-python",
   "name": "python",
   "nbconvert_exporter": "python",
   "pygments_lexer": "ipython3",
   "version": "3.7.4"
  }
 },
 "nbformat": 4,
 "nbformat_minor": 2
}

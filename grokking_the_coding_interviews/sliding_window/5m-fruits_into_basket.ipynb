{
 "cells": [
  {
   "cell_type": "markdown",
   "metadata": {},
   "source": [
    "# Problem Statement #\n",
    "Given an array of characters where each character represents a fruit tree, you are given two baskets and your goal is to put maximum number of fruits in each basket. The only restriction is that each basket can have only one type of fruit.\n",
    "\n",
    "You can start with any tree, but once you have started you can’t skip a tree. You will pick one fruit from each tree until you cannot, i.e., you will stop when you have to pick from a third fruit type.\n",
    "\n",
    "Write a function to return the maximum number of fruits in both the baskets"
   ]
  },
  {
   "cell_type": "markdown",
   "metadata": {},
   "source": [
    "Example 1:\n",
    "\n",
    "Input: Fruit=['A', 'B', 'C', 'A', 'C']\n",
    "Output: 3\n",
    "Explanation: We can put 2 'C' in one basket and one 'A' in the other from the subarray ['C', 'A', 'C']\n",
    "\n",
    "Example 2:\n",
    "\n",
    "Input: Fruit=['A', 'B', 'C', 'B', 'B', 'C']\n",
    "Output: 5\n",
    "Explanation: We can put 3 'B' in one basket and two 'C' in the other basket. \n",
    "This can be done if we start with the second letter: ['B', 'C', 'B', 'B', 'C']"
   ]
  },
  {
   "cell_type": "markdown",
   "metadata": {},
   "source": [
    "### What I did wrong?\n",
    "\n",
    "* I forgot to clear the frequency dictionary at the end as I'm recounting every new sliding window (frequency.clear())\n",
    "\n",
    "* I don't need to keep track of basket1 and basket2\n",
    "\n",
    "* Grokking version is better as it doesn't require recounting every single fruit in sub_fruits"
   ]
  },
  {
   "cell_type": "code",
   "execution_count": 21,
   "metadata": {},
   "outputs": [],
   "source": [
    "# Completed version 1\n",
    "def fruits_into_baskets(fruits):\n",
    "    frequency = {}\n",
    "    windowStart, max_sum = 0, 0\n",
    "    fruit_type_count = 0 # has to be <= 2\n",
    "    \n",
    "    for windowEnd in range(len(fruits)):\n",
    "        trees = fruits[windowStart: windowEnd + 1]\n",
    "        # count no of unique fruits in trees\n",
    "        fruit_type_count = len(set(trees))\n",
    "        \n",
    "        if fruit_type_count <= 2:\n",
    "            # count frequency of 2 fruits:\n",
    "            for fruit in trees:\n",
    "                if fruit in frequency:\n",
    "                    frequency[fruit] += 1\n",
    "                else:\n",
    "                    frequency[fruit] = 1\n",
    "            # calculate sum\n",
    "            sum_ = sum(frequency.values())\n",
    "            max_sum = max(sum_, max_sum)\n",
    "        else:\n",
    "            windowStart +=1\n",
    "            \n",
    "        # reset frequency after every windowEnd expansion\n",
    "        frequency.clear()\n",
    "    return max_sum"
   ]
  },
  {
   "cell_type": "code",
   "execution_count": 26,
   "metadata": {},
   "outputs": [],
   "source": [
    "# Completed version 2 (Grokking)\n",
    "def fruits_into_baskets(fruits):\n",
    "    frequency = {}\n",
    "    windowStart, max_sum = 0,0\n",
    "    \n",
    "    for windowEnd in range(len(fruits)):\n",
    "        fruit = fruits[windowEnd]\n",
    "        if fruit not in frequency:\n",
    "            frequency[fruit] = 1\n",
    "        else:\n",
    "            frequency[fruit] += 1\n",
    "        \n",
    "        # check no of fruit types\n",
    "        # shrinking the sliding window\n",
    "        while len(frequency) > 2:\n",
    "            left_fruit = fruits[windowStart]\n",
    "            frequency[left_fruit] -= 1\n",
    "            \n",
    "            if frequency[left_fruit] == 0:\n",
    "                del frequency[left_fruit]\n",
    "            windowStart += 1\n",
    "        \n",
    "        max_sum = max(max_sum, sum(frequency.values()))\n",
    "    \n",
    "    return max_sum\n",
    "        "
   ]
  },
  {
   "cell_type": "code",
   "execution_count": 13,
   "metadata": {},
   "outputs": [],
   "source": [
    "def fruits_into_baskets(fruits):\n",
    "    windowStart, max_sum = 0, 0\n",
    "    fruit_type_count = basket1 = basket2 = 0\n",
    "    frequency = {}\n",
    "    \n",
    "    for windowEnd in range(len(fruits)):\n",
    "        sub_tree = fruits[windowStart: windowEnd+1]\n",
    "        fruit_type_count = len(set(sub_tree))\n",
    "        \n",
    "        if fruit_type_count <= 2:\n",
    "            # count fruit\n",
    "            for fruit in sub_tree:\n",
    "                if fruit in frequency:\n",
    "                    frequency[fruit] += 1\n",
    "                else:\n",
    "                    frequency[fruit] = 1\n",
    "            \n",
    "            print(frequency)\n",
    "            local_sum = sum(frequency.values())\n",
    "            max_sum = max(max_sum, local_sum)\n",
    "            \n",
    "            \n",
    "        else:\n",
    "            windowStart += 1\n",
    "            \n",
    "        \n",
    "        frequency.clear()\n",
    "        \n",
    "        \n",
    "    return max_sum"
   ]
  },
  {
   "cell_type": "code",
   "execution_count": 27,
   "metadata": {},
   "outputs": [
    {
     "name": "stdout",
     "output_type": "stream",
     "text": [
      "3\n"
     ]
    }
   ],
   "source": [
    "print(fruits_into_baskets(['A', 'B', 'C', 'A', 'C']))"
   ]
  },
  {
   "cell_type": "code",
   "execution_count": 28,
   "metadata": {},
   "outputs": [
    {
     "data": {
      "text/plain": [
       "5"
      ]
     },
     "execution_count": 28,
     "metadata": {},
     "output_type": "execute_result"
    }
   ],
   "source": [
    "fruits_into_baskets(['A', 'B', 'C', 'B', 'B', 'C'])"
   ]
  },
  {
   "cell_type": "markdown",
   "metadata": {},
   "source": [
    "# Exercise #\n",
    "Problem 1: Longest Substring with at most 2 distinct characters\n",
    "\n",
    "Given a string, find the length of the longest substring in it with at most two distinct characters.\n",
    "\n",
    "Solution: This problem is exactly similar to our parent problem."
   ]
  },
  {
   "cell_type": "code",
   "execution_count": null,
   "metadata": {},
   "outputs": [],
   "source": [
    "def longest_substring(str, k=2):\n",
    "    \n",
    "    # iterate through str\n",
    "        "
   ]
  }
 ],
 "metadata": {
  "kernelspec": {
   "display_name": "Python 3",
   "language": "python",
   "name": "python3"
  },
  "language_info": {
   "codemirror_mode": {
    "name": "ipython",
    "version": 3
   },
   "file_extension": ".py",
   "mimetype": "text/x-python",
   "name": "python",
   "nbconvert_exporter": "python",
   "pygments_lexer": "ipython3",
   "version": "3.7.4"
  }
 },
 "nbformat": 4,
 "nbformat_minor": 2
}

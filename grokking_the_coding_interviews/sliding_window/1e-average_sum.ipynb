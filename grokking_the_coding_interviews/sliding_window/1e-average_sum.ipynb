{
 "cells": [
  {
   "cell_type": "markdown",
   "metadata": {},
   "source": [
    "# Problems\n",
    "Given an array, find the average of all contiguous subarrays of size ‘K’ in it."
   ]
  },
  {
   "cell_type": "code",
   "execution_count": 72,
   "metadata": {},
   "outputs": [],
   "source": [
    "# brute force\n",
    "# Go through every 5 elements, calculate average. move to next 5 elements and repeat,\n",
    "# output: list of all the average\n",
    "# Big O: O(n*k)"
   ]
  },
  {
   "cell_type": "code",
   "execution_count": 73,
   "metadata": {},
   "outputs": [],
   "source": [
    "def average_bruteforce(arr, k):\n",
    "    result = []\n",
    "    for i in range(len(arr) - k + 1): # big O: n - k -> O(n)\n",
    "        average = sum(arr[i:i+k]) / k # big O: O(k)\n",
    "        result.append(average)\n",
    "    return result"
   ]
  },
  {
   "cell_type": "code",
   "execution_count": 74,
   "metadata": {},
   "outputs": [],
   "source": [
    "arr = [1, 3, 2, 6, -1, 4, 1, 8, 2]"
   ]
  },
  {
   "cell_type": "code",
   "execution_count": 75,
   "metadata": {},
   "outputs": [
    {
     "name": "stdout",
     "output_type": "stream",
     "text": [
      "[2.2, 2.8, 2.4, 3.6, 2.8]\n"
     ]
    }
   ],
   "source": [
    "print(average_bruteforce(arr, k=5))"
   ]
  },
  {
   "cell_type": "code",
   "execution_count": 76,
   "metadata": {},
   "outputs": [],
   "source": [
    "# Sliding window of 5 elements\n",
    "# share 4 elements\n",
    "# Instead of recalculating every time, subtract the first element out\n",
    "# Add next element at the end"
   ]
  },
  {
   "cell_type": "code",
   "execution_count": 77,
   "metadata": {},
   "outputs": [],
   "source": [
    "def average_slidingwindow(arr, k):\n",
    "    result = []\n",
    "    windowStart, windowSum = 0, 0.0\n",
    "    \n",
    "    for windowEnd in range(len(arr)):\n",
    "        windowSum += arr[windowEnd]\n",
    "        \n",
    "        if windowEnd >= k - 1:\n",
    "            result.append(windowSum/k)\n",
    "            windowSum -= arr[windowStart]\n",
    "            windowStart += 1\n",
    "    return result"
   ]
  },
  {
   "cell_type": "code",
   "execution_count": 78,
   "metadata": {},
   "outputs": [
    {
     "name": "stdout",
     "output_type": "stream",
     "text": [
      "[2.2, 2.8, 2.4, 3.6, 2.8]\n"
     ]
    }
   ],
   "source": [
    "print(average_slidingwindow(arr, k=5))"
   ]
  },
  {
   "cell_type": "code",
   "execution_count": null,
   "metadata": {},
   "outputs": [],
   "source": []
  },
  {
   "cell_type": "code",
   "execution_count": null,
   "metadata": {},
   "outputs": [],
   "source": []
  }
 ],
 "metadata": {
  "kernelspec": {
   "display_name": "Python 3",
   "language": "python",
   "name": "python3"
  },
  "language_info": {
   "codemirror_mode": {
    "name": "ipython",
    "version": 3
   },
   "file_extension": ".py",
   "mimetype": "text/x-python",
   "name": "python",
   "nbconvert_exporter": "python",
   "pygments_lexer": "ipython3",
   "version": "3.7.4"
  }
 },
 "nbformat": 4,
 "nbformat_minor": 2
}

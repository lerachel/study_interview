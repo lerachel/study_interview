{
 "cells": [
  {
   "cell_type": "markdown",
   "metadata": {},
   "source": [
    "# Problem Statement\n",
    "Given a string, find the length of the longest substring in it with no more than K distinct characters."
   ]
  },
  {
   "cell_type": "markdown",
   "metadata": {},
   "source": [
    "Input: String=\"araaci\", K=2\n",
    "Output: 4\n",
    "Explanation: The longest substring with no more than '2' distinct characters is \"araa\".\n",
    "\n",
    "Input: String=\"araaci\", K=1\n",
    "Output: 2\n",
    "Explanation: The longest substring with no more than '1' distinct characters is \"aa\".\n",
    "\n",
    "Input: String=\"cbbebi\", K=3\n",
    "Output: 5\n",
    "Explanation: The longest substrings with no more than '3' distinct characters are \"cbbeb\" & \"bbebi\"."
   ]
  },
  {
   "cell_type": "markdown",
   "metadata": {},
   "source": [
    "Algorithm:\n",
    "```python\n",
    "iterate through the entire list:\n",
    "    get substr[windowStart : windowEnd + 1]\n",
    "    count distinct character, use set\n",
    "    \n",
    "    if distinct_char <= k:\n",
    "        update max len with len(substr)\n",
    "    else:\n",
    "        move the sliding window 1 step forward\n",
    "```"
   ]
  },
  {
   "cell_type": "code",
   "execution_count": 9,
   "metadata": {},
   "outputs": [],
   "source": [
    "def longest_substring_with_k_distinct(str, k):\n",
    "  # TODO: Write your code here\n",
    "    windowStart, max_len, distinct_count = 0, 0, 0\n",
    "    \n",
    "    for windowEnd in range(len(str)):\n",
    "        substr = str[windowStart: windowEnd + 1]     \n",
    "        distinct_count = len(set(substr))\n",
    "        \n",
    "        if distinct_count <= k:  \n",
    "            max_len = max(max_len, len(substr))\n",
    "        else:\n",
    "            windowStart += 1\n",
    "            \n",
    "    return max_len\n",
    "\n",
    "'''\n",
    "Time complexity:\n",
    "for loop O(n)\n",
    "distinct_count = len(set(substr)): O(1)\n",
    "\n",
    "Overall: O(n)\n",
    "\n",
    "Space complexity:\n",
    "Use of set, O(k) because we store k distinct char in set\n",
    "''' "
   ]
  },
  {
   "cell_type": "code",
   "execution_count": 10,
   "metadata": {},
   "outputs": [
    {
     "name": "stdout",
     "output_type": "stream",
     "text": [
      "4\n"
     ]
    }
   ],
   "source": [
    "str = \"araaci\"\n",
    "k = 2\n",
    "print(longest_substring_with_k_distinct(str, k))"
   ]
  },
  {
   "cell_type": "code",
   "execution_count": 12,
   "metadata": {},
   "outputs": [
    {
     "name": "stdout",
     "output_type": "stream",
     "text": [
      "2\n"
     ]
    }
   ],
   "source": [
    "str, k = \"araaci\", 1\n",
    "print(longest_substring_with_k_distinct(str, k))"
   ]
  },
  {
   "cell_type": "code",
   "execution_count": 14,
   "metadata": {},
   "outputs": [
    {
     "name": "stdout",
     "output_type": "stream",
     "text": [
      "5\n"
     ]
    }
   ],
   "source": [
    "str, k = \"cbbebi\", 3\n",
    "print(longest_substring_with_k_distinct(str, k))"
   ]
  },
  {
   "cell_type": "code",
   "execution_count": null,
   "metadata": {},
   "outputs": [],
   "source": []
  }
 ],
 "metadata": {
  "kernelspec": {
   "display_name": "Python 3",
   "language": "python",
   "name": "python3"
  },
  "language_info": {
   "codemirror_mode": {
    "name": "ipython",
    "version": 3
   },
   "file_extension": ".py",
   "mimetype": "text/x-python",
   "name": "python",
   "nbconvert_exporter": "python",
   "pygments_lexer": "ipython3",
   "version": "3.7.4"
  }
 },
 "nbformat": 4,
 "nbformat_minor": 2
}

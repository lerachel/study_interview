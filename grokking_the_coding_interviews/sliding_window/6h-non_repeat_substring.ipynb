{
 "cells": [
  {
   "cell_type": "markdown",
   "metadata": {},
   "source": [
    "# Problem Statement #\n",
    "Given a string, find the length of the longest substring which has no repeating characters."
   ]
  },
  {
   "cell_type": "markdown",
   "metadata": {},
   "source": [
    "My original algo:\n",
    "\n",
    "    windowStart, max_len\n",
    "    substr # length\n",
    "    set # check unique char\n",
    "\n",
    "\n",
    "    iterate through entire list:\n",
    "        get char\n",
    "\n",
    "        while char is in set (keep shrinking sliding window until delete char):\n",
    "            remove first char set\n",
    "            remove first char in substr\n",
    "            move sliding window forward\n",
    "\n",
    "        add char to substr\n",
    "        add char to set\n",
    "        update max_len with substr_len\n",
    "    return max_len"
   ]
  },
  {
   "cell_type": "code",
   "execution_count": 38,
   "metadata": {},
   "outputs": [],
   "source": [
    "# My original answer\n",
    "def non_repeat_substring(str):\n",
    "    windowStart, max_len = 0, 0\n",
    "    substr = []\n",
    "    unique = set()\n",
    "    \n",
    "    for windowEnd in range(len(str)):\n",
    "        c = str[windowEnd]\n",
    "        \n",
    "        while c in unique:\n",
    "            first_char = substr[0]\n",
    "            unique.remove(first_char)\n",
    "            substr.pop(0)\n",
    "            windowStart += 1\n",
    "        \n",
    "        substr.append(c)\n",
    "        unique.add(c)\n",
    "        max_len = max(max_len, len(substr))\n",
    "       \n",
    "    return max_len"
   ]
  },
  {
   "cell_type": "code",
   "execution_count": null,
   "metadata": {
    "scrolled": true
   },
   "outputs": [],
   "source": [
    "print(non_repeat_substring(\"aabccbb\"))\n",
    "print(non_repeat_substring(\"abbbb\"))\n",
    "print(non_repeat_substring(\"abccde\"))"
   ]
  },
  {
   "cell_type": "markdown",
   "metadata": {},
   "source": [
    "# Recreate Grokking's answer\n",
    "\n",
    "### Alogrithm \n",
    "\n",
    "    hashmap = {}\n",
    "    window_start\n",
    "    max_len\n",
    "\n",
    "    iterate entire array\n",
    "        retrieve last element in sliding window\n",
    "\n",
    "        if last element in hashmap:\n",
    "            shrink window_start to location right after location of 1st last element\n",
    "            window_start = max(window_start, map[last_element] + 1)\n",
    "\n",
    "        remember last element location: map[last_element] = window_end\n",
    "        max_len = max(max_len, window_end - window_start + 1)\n",
    "\n",
    "    return max_len\n",
    "\n"
   ]
  },
  {
   "cell_type": "code",
   "execution_count": null,
   "metadata": {},
   "outputs": [],
   "source": [
    "def non_repeat_substring(str):\n",
    "    window_start, max_len = 0,0\n",
    "    unique = {}\n",
    "    \n",
    "    for window_end in range(len(str)):\n",
    "        char = str[window_end]\n",
    "        \n",
    "        # shrinking sliding window\n",
    "        if char in unique:\n",
    "            # grokking\n",
    "            window_start = max(window_start, unique[char] + 1)\n",
    "            # my version: window_start = unique[char] + 1\n",
    "        \n",
    "        unique[char] = window_end\n",
    "        max_len = max(max_len, window_end - window_start + 1)\n",
    "    return max_len"
   ]
  },
  {
   "cell_type": "code",
   "execution_count": 42,
   "metadata": {},
   "outputs": [
    {
     "name": "stdout",
     "output_type": "stream",
     "text": [
      "Length of the longest substring: 3\n",
      "Length of the longest substring: 2\n",
      "Length of the longest substring: 3\n"
     ]
    }
   ],
   "source": [
    "# Grokking's version\n",
    "def non_repeat_substring(str1):\n",
    "  window_start = 0\n",
    "  max_length = 0\n",
    "  char_index_map = {}\n",
    "\n",
    "  # try to extend the range [windowStart, windowEnd]\n",
    "  for window_end in range(len(str1)):\n",
    "    right_char = str1[window_end]\n",
    "    # if the map already contains the 'right_char', shrink the window from the beginning so that\n",
    "    # we have only one occurrence of 'right_char'\n",
    "    if right_char in char_index_map:\n",
    "      # this is tricky; in the current window, we will not have any 'right_char' after its previous index\n",
    "      # and if 'window_start' is already ahead of the last index of 'right_char', we'll keep 'window_start'\n",
    "      window_start = char_index_map[right_char] + 1\n",
    "    \n",
    "    # insert the 'right_char' into the map\n",
    "    char_index_map[right_char] = window_end\n",
    "    # remember the maximum length so far\n",
    "    max_length = max(max_length, window_end - window_start + 1)\n",
    "\n",
    "    \n",
    "  return max_length\n",
    "\n",
    "\n",
    "print(\"Length of the longest substring: \" + str(non_repeat_substring(\"aabccbb\")))\n",
    "print(\"Length of the longest substring: \" + str(non_repeat_substring(\"abbbb\")))\n",
    "print(\"Length of the longest substring: \" + str(non_repeat_substring(\"abccde\")))\n"
   ]
  },
  {
   "cell_type": "code",
   "execution_count": null,
   "metadata": {},
   "outputs": [],
   "source": []
  },
  {
   "cell_type": "code",
   "execution_count": null,
   "metadata": {},
   "outputs": [],
   "source": []
  }
 ],
 "metadata": {
  "kernelspec": {
   "display_name": "Python 3",
   "language": "python",
   "name": "python3"
  },
  "language_info": {
   "codemirror_mode": {
    "name": "ipython",
    "version": 3
   },
   "file_extension": ".py",
   "mimetype": "text/x-python",
   "name": "python",
   "nbconvert_exporter": "python",
   "pygments_lexer": "ipython3",
   "version": "3.7.4"
  }
 },
 "nbformat": 4,
 "nbformat_minor": 2
}

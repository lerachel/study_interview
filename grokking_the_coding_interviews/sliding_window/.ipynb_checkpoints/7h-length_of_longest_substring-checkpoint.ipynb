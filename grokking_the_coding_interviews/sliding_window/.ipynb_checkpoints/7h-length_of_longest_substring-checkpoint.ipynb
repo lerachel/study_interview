{
 "cells": [
  {
   "cell_type": "markdown",
   "metadata": {},
   "source": [
    "# Problem Statement #\n",
    "Given a string with lowercase letters only, if you are allowed to replace no more than ‘k’ letters with any letter, find the length of the longest substring having the same letters after replacement."
   ]
  },
  {
   "cell_type": "markdown",
   "metadata": {},
   "source": [
    "I wasn't able to solve the problem but I got some good progress on my thought process. I knew these things:\n",
    "\n",
    "* Each substring has 2 components:\n",
    "- a character with highest frequency\n",
    "- the rest of characters with lower frequency\n",
    "- (window - highest frequency letter) > k: shrink the window"
   ]
  },
  {
   "cell_type": "code",
   "execution_count": 1,
   "metadata": {},
   "outputs": [],
   "source": [
    "# Grokking's Solution\n",
    "\n",
    "def length_of_longest_substring(str, k):\n",
    "  window_start, max_len, maxRepeatLetter = 0, 0, 0\n",
    "  frequency = {}\n",
    "\n",
    "  for window_end in range(len(str)):\n",
    "    right_char = str[window_end]\n",
    "    \n",
    "    if right_char not in frequency:\n",
    "      frequency[right_char] = 0\n",
    "    frequency[right_char] += 1\n",
    "    maxRepeatLetter = max(maxRepeatLetter, frequency[right_char])\n",
    "\n",
    "    if window_end - window_start + 1 - maxRepeatLetter > k:\n",
    "      # shrink window\n",
    "      left_char = str[window_start]\n",
    "      frequency[left_char] -= 1\n",
    "      window_start += 1\n",
    "    \n",
    "    max_len = max(max_len, window_end - window_start + 1)\n",
    "    \n",
    "  return max_len"
   ]
  },
  {
   "cell_type": "code",
   "execution_count": 2,
   "metadata": {},
   "outputs": [
    {
     "name": "stdout",
     "output_type": "stream",
     "text": [
      "5\n",
      "4\n",
      "3\n"
     ]
    }
   ],
   "source": [
    "# Solution: 5,4,3\n",
    "print(length_of_longest_substring(\"aabccbb\", 2))\n",
    "print(length_of_longest_substring(\"abbcb\", 1))\n",
    "print(length_of_longest_substring(\"abccde\", 1))"
   ]
  },
  {
   "cell_type": "code",
   "execution_count": null,
   "metadata": {},
   "outputs": [],
   "source": []
  }
 ],
 "metadata": {
  "kernelspec": {
   "display_name": "Python 3",
   "language": "python",
   "name": "python3"
  },
  "language_info": {
   "codemirror_mode": {
    "name": "ipython",
    "version": 3
   },
   "file_extension": ".py",
   "mimetype": "text/x-python",
   "name": "python",
   "nbconvert_exporter": "python",
   "pygments_lexer": "ipython3",
   "version": "3.7.4"
  }
 },
 "nbformat": 4,
 "nbformat_minor": 2
}

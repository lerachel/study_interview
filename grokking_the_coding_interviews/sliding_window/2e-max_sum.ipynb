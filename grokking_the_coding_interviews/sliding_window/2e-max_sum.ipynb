{
 "cells": [
  {
   "cell_type": "code",
   "execution_count": 29,
   "metadata": {},
   "outputs": [],
   "source": [
    "import time"
   ]
  },
  {
   "cell_type": "code",
   "execution_count": 30,
   "metadata": {},
   "outputs": [],
   "source": [
    "arr, k = [2, 1, 5, 1, 3, 2], 3\n",
    "arr2, k2 = [2, 3, 4, 1, 5], 2"
   ]
  },
  {
   "cell_type": "code",
   "execution_count": 31,
   "metadata": {},
   "outputs": [],
   "source": [
    "def find_maxsum_bruteforce(arr, k):\n",
    "    max_sum = 0\n",
    "    \n",
    "    for i in range(len(arr) - k + 1):\n",
    "        sum_ = sum(arr[i:i+k])\n",
    "        max_sum = max(sum_, max_sum)\n",
    "    return max_sum"
   ]
  },
  {
   "cell_type": "code",
   "execution_count": 32,
   "metadata": {},
   "outputs": [
    {
     "name": "stdout",
     "output_type": "stream",
     "text": [
      "9\n",
      "7\n",
      "runtime: 0.0002307891845703125s\n"
     ]
    }
   ],
   "source": [
    "start = time.time()\n",
    "print(find_maxsum_bruteforce(arr, k))\n",
    "print(find_maxsum_bruteforce(arr2, k2))\n",
    "print(\"runtime: {}s\".format(time.time() - start))"
   ]
  },
  {
   "cell_type": "code",
   "execution_count": 33,
   "metadata": {},
   "outputs": [],
   "source": [
    "def find_max_sum(arr, k):\n",
    "    max_sum, windowStart, sum_ = 0,0,0\n",
    "    \n",
    "    for windowEnd in range(len(arr)):\n",
    "        sum_ += arr[windowEnd]\n",
    "        \n",
    "        if windowEnd >= k - 1:\n",
    "            if sum_ > max_sum:\n",
    "                max_sum = sum_\n",
    "            sum_ -= arr[windowStart]\n",
    "            windowStart += 1\n",
    "    return max_sum"
   ]
  },
  {
   "cell_type": "code",
   "execution_count": 34,
   "metadata": {},
   "outputs": [
    {
     "name": "stdout",
     "output_type": "stream",
     "text": [
      "9\n",
      "7\n",
      "runtime: 0.00022125244140625s\n"
     ]
    }
   ],
   "source": [
    "start = time.time()\n",
    "print(find_max_sum(arr, k))\n",
    "print(find_max_sum(arr2, k2))\n",
    "print(\"runtime: {}s\".format(time.time() - start))"
   ]
  }
 ],
 "metadata": {
  "kernelspec": {
   "display_name": "Python 3",
   "language": "python",
   "name": "python3"
  },
  "language_info": {
   "codemirror_mode": {
    "name": "ipython",
    "version": 3
   },
   "file_extension": ".py",
   "mimetype": "text/x-python",
   "name": "python",
   "nbconvert_exporter": "python",
   "pygments_lexer": "ipython3",
   "version": "3.7.4"
  }
 },
 "nbformat": 4,
 "nbformat_minor": 2
}

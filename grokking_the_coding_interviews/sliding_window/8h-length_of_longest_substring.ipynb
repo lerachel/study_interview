{
 "cells": [
  {
   "cell_type": "markdown",
   "metadata": {},
   "source": [
    "# Problem Statement #\n",
    "Given an array containing 0s and 1s, if you are allowed to replace no more than ‘k’ 0s with 1s, find the length of the longest contiguous subarray having all 1s."
   ]
  },
  {
   "cell_type": "markdown",
   "metadata": {},
   "source": [
    "This is actually a simplified version of \"longest substring with same letters after replacement\". Because it has only 0s and 1s, we don't need a hashmap to keep count of frequency. Frequency of 1 or 0 is the window length - frequency of 0s/1s\n",
    "\n",
    "* Most of the problem has an if statement to shrink the window (meaning increment the window_start) when the current window does not satisfy a requirement (go over k elements of some sort). \n",
    "* Always use \"if statement\" ! Only one situation has \"while loop\" (smallest contiguous subarray whose sum is greater than or equal to s\")"
   ]
  },
  {
   "cell_type": "code",
   "execution_count": 11,
   "metadata": {},
   "outputs": [],
   "source": [
    "def length_of_longest_substring(arr, k):\n",
    "    window_start, max_len, max_one_count = 0,0,0\n",
    "    \n",
    "    for window_end in range(len(arr)):\n",
    "        if arr[window_end] == 1:\n",
    "            max_one_count += 1\n",
    "        \n",
    "        if window_end - window_start + 1 - max_one_count > k:   \n",
    "            if arr[window_start] == 1:\n",
    "                max_one_count -= 1\n",
    "            window_start += 1\n",
    "        max_len = max(max_len, window_end - window_start + 1)\n",
    "    return max_len"
   ]
  },
  {
   "cell_type": "code",
   "execution_count": 12,
   "metadata": {},
   "outputs": [
    {
     "name": "stdout",
     "output_type": "stream",
     "text": [
      "6\n",
      "9\n"
     ]
    }
   ],
   "source": [
    "# Solution: 6, 9\n",
    "\n",
    "print(length_of_longest_substring([0, 1, 1, 0, 0, 0, 1, 1, 0, 1, 1], 2))\n",
    "print(length_of_longest_substring(\n",
    "[0, 1, 0, 0, 1, 1, 0, 1, 1, 0, 0, 1, 1], 3))"
   ]
  },
  {
   "cell_type": "code",
   "execution_count": null,
   "metadata": {},
   "outputs": [],
   "source": []
  }
 ],
 "metadata": {
  "kernelspec": {
   "display_name": "Python 3",
   "language": "python",
   "name": "python3"
  },
  "language_info": {
   "codemirror_mode": {
    "name": "ipython",
    "version": 3
   },
   "file_extension": ".py",
   "mimetype": "text/x-python",
   "name": "python",
   "nbconvert_exporter": "python",
   "pygments_lexer": "ipython3",
   "version": "3.7.4"
  }
 },
 "nbformat": 4,
 "nbformat_minor": 2
}

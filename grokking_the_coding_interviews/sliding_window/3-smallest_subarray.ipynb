{
 "cells": [
  {
   "cell_type": "markdown",
   "metadata": {},
   "source": [
    "# Smallest subarray with a given sum"
   ]
  },
  {
   "cell_type": "code",
   "execution_count": 38,
   "metadata": {},
   "outputs": [],
   "source": [
    "# Sliding window problem\n",
    "# iterate through the entire list, calculate sum of each element\n",
    "# As soon as you reach a window that sum >= target\n",
    "# record length, stop and increment windowStart\n",
    "# restart sum_"
   ]
  },
  {
   "cell_type": "code",
   "execution_count": 45,
   "metadata": {},
   "outputs": [],
   "source": [
    "import math\n",
    "def smallest_subarray(arr, s):\n",
    "    min_len = math.inf\n",
    "    windowStart, sum_ = 0, 0\n",
    "    \n",
    "    for windowEnd in range(len(arr)):\n",
    "        sum_ += arr[windowEnd]\n",
    "        \n",
    "        while sum_ >= s:\n",
    "            # len of subarray\n",
    "            min_len = min(min_len, windowEnd - windowStart + 1)\n",
    "            sum_ -= arr[windowStart]\n",
    "            windowStart += 1\n",
    "    if min_len == math.inf:\n",
    "        return 0\n",
    "    return min_len "
   ]
  },
  {
   "cell_type": "code",
   "execution_count": 46,
   "metadata": {},
   "outputs": [],
   "source": [
    "arr, s = [2, 1, 5, 2, 3, 2], 7\n",
    "arr2, s2 = [2, 1, 5, 2, 8], 7\n",
    "arr3, s3 = [3, 4, 1, 1, 6], 8"
   ]
  },
  {
   "cell_type": "code",
   "execution_count": 47,
   "metadata": {},
   "outputs": [
    {
     "name": "stdout",
     "output_type": "stream",
     "text": [
      "2\n",
      "1\n",
      "3\n"
     ]
    }
   ],
   "source": [
    "print(smallest_subarray(arr,s))\n",
    "print(smallest_subarray(arr2, s2))\n",
    "print(smallest_subarray(arr3, s3))"
   ]
  }
 ],
 "metadata": {
  "kernelspec": {
   "display_name": "Python 3",
   "language": "python",
   "name": "python3"
  },
  "language_info": {
   "codemirror_mode": {
    "name": "ipython",
    "version": 3
   },
   "file_extension": ".py",
   "mimetype": "text/x-python",
   "name": "python",
   "nbconvert_exporter": "python",
   "pygments_lexer": "ipython3",
   "version": "3.7.4"
  }
 },
 "nbformat": 4,
 "nbformat_minor": 2
}

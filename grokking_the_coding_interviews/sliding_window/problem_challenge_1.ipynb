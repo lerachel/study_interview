{
 "cells": [
  {
   "cell_type": "markdown",
   "metadata": {},
   "source": [
    "# Permutation in a String (hard) #\n",
    "Given a string and a pattern, find out if the string contains any permutation of the pattern.\n",
    "\n",
    "Permutation is defined as the re-arranging of the characters of the string. For example, “abc” has the following six permutations:\n",
    "\n",
    "abc\n",
    "acb\n",
    "bac\n",
    "bca\n",
    "cab\n",
    "cba\n",
    "If a string has ‘n’ distinct characters it will have \n",
    "n\n",
    "!\n",
    "n! permutations."
   ]
  },
  {
   "cell_type": "markdown",
   "metadata": {},
   "source": [
    "Algoritm:\n",
    "\n",
    "    window_start, frequency_map (of pattern), matched\n",
    "\n",
    "    store letters and their frequency in pattern into frequency_map\n",
    "\n",
    "    for right_loc in array:\n",
    "        retrieve element at right_loc\n",
    "\n",
    "        if element in frequency_map:\n",
    "            decrement count of that element\n",
    "            if count == 0:\n",
    "                increment 1 match\n",
    "            if match == number of letters in pattern\n",
    "                the array satisfy requirement (TRUE)\n",
    "\n",
    "        (move sliding window)\n",
    "        if window_end > len(pattern) - 1:\n",
    "            retrieve element at left_loc\n",
    "            if frequency map of that == 0:\n",
    "                decrement match\n",
    "            return 1 to its frequency from frequency map\n",
    "     return False (no match)\n",
    "               \n",
    "    \n"
   ]
  },
  {
   "cell_type": "code",
   "execution_count": 3,
   "metadata": {},
   "outputs": [],
   "source": [
    "def find_permutation(str, pattern):\n",
    "    window_start, matched = 0,0\n",
    "    frequency_map = {}\n",
    "    \n",
    "    # store char & their frequency\n",
    "    for char in pattern:\n",
    "        if char not in frequency_map:\n",
    "            frequency_map[char] = 0\n",
    "        frequency_map[char] += 1\n",
    "    \n",
    "    # check if str contains permutation\n",
    "    for window_end in range(len(str)):\n",
    "        right_char = str[window_end]\n",
    "        \n",
    "        if right_char in frequency_map:\n",
    "            frequency_map[right_char] -= 1\n",
    "            if frequency_map[right_char] == 0:\n",
    "                matched += 1\n",
    "        if matched == len(frequency_map):\n",
    "                return True\n",
    "        \n",
    "        if window_end >= len(pattern) - 1:\n",
    "            left_char = str[window_start]\n",
    "            window_start += 1\n",
    "            \n",
    "            if left_char in frequency_map:\n",
    "                if frequency_map[left_char] == 0:\n",
    "                    matched -= 1\n",
    "                    \n",
    "                frequency_map[left_char] += 1\n",
    "    return False"
   ]
  },
  {
   "cell_type": "markdown",
   "metadata": {},
   "source": [
    "Pattern: count frequency of each letter\n",
    "Definition of a match:\n",
    "- match all letter\n",
    "- match frequency of letter\n",
    "\n",
    "When to slide the window:\n",
    "- window length > pattern len\n",
    "What happen when slide window\n",
    "- retrieve left letter\n",
    "- if left letter is a letter in pattern:\n",
    "    - decrement its frequency\n",
    "    - frequency = 0, decrement match"
   ]
  },
  {
   "cell_type": "code",
   "execution_count": null,
   "metadata": {},
   "outputs": [],
   "source": []
  },
  {
   "cell_type": "markdown",
   "metadata": {},
   "source": [
    "def find_permutation(str, pattern):\n",
    "    window_start, matched = 0,0\n",
    "    frequency_map = {}\n",
    "    \n",
    "    # count frequency of pattern letters\n",
    "    for char in pattern:\n",
    "        if char not in frequency_map:\n",
    "            frequency_map[char] = 0\n",
    "        frequency_map[char] += 1\n",
    "    \n",
    "    for window_end in range(len(str)):\n",
    "        right_char = str[window_end]\n",
    "        \n",
    "        if right_char in frequency_map:\n",
    "            frequency_map[right_char] -= 1\n",
    "            if frequency_map[right_char] == 0:\n",
    "                matched += 1\n",
    "        if matched == len(frequency_map):\n",
    "            return True\n",
    "        \n",
    "        if window_end >= len(pattern) - 1:\n",
    "            left_char = str[window_start]\n",
    "            window_start += 1\n",
    "            if left_char in frequency_map:\n",
    "                if frequency_map[left_char] == 0:\n",
    "                    matched -= 1\n",
    "                frequency_map[left_char] += 1\n",
    "    return False"
   ]
  },
  {
   "cell_type": "code",
   "execution_count": 4,
   "metadata": {},
   "outputs": [
    {
     "name": "stdout",
     "output_type": "stream",
     "text": [
      "Permutation exist: True\n",
      "Permutation exist: False\n",
      "Permutation exist: True\n",
      "Permutation exist: True\n"
     ]
    }
   ],
   "source": [
    "# Result: True, False, True, True\n",
    "print('Permutation exist: ' + str(find_permutation(\"oidbcaf\", \"abc\")))\n",
    "print('Permutation exist: ' + str(find_permutation(\"odicf\", \"dc\")))\n",
    "print('Permutation exist: ' + str(find_permutation(\"bcdxabcdy\", \"bcdyabcdx\")))\n",
    "print('Permutation exist: ' + str(find_permutation(\"aaacb\", \"abc\")))"
   ]
  },
  {
   "cell_type": "code",
   "execution_count": null,
   "metadata": {},
   "outputs": [],
   "source": []
  }
 ],
 "metadata": {
  "kernelspec": {
   "display_name": "Python 3",
   "language": "python",
   "name": "python3"
  },
  "language_info": {
   "codemirror_mode": {
    "name": "ipython",
    "version": 3
   },
   "file_extension": ".py",
   "mimetype": "text/x-python",
   "name": "python",
   "nbconvert_exporter": "python",
   "pygments_lexer": "ipython3",
   "version": "3.7.4"
  }
 },
 "nbformat": 4,
 "nbformat_minor": 2
}
